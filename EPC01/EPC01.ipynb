{
 "cells": [
  {
   "attachments": {},
   "cell_type": "markdown",
   "metadata": {},
   "source": [
    "# EPC01 \n",
    "### Nome: Adriel Bombonato Guidini Godinho\n",
    "### RA: 191011631\n",
    "\n",
    "## Perceptron\n",
    "\n",
    "---"
   ]
  },
  {
   "cell_type": "code",
   "execution_count": 32,
   "metadata": {},
   "outputs": [],
   "source": [
    "import numpy as np\n",
    "\n",
    "class Perceptron:\n",
    "    \n",
    "    def __init__(self, weights, bias):\n",
    "        self.weights = weights\n",
    "        self.bias = bias\n",
    "\n",
    "    # Tomando z = Wx + b, faz a função de ativação bipolar de z\n",
    "    def activation_function(self, z):\n",
    "        activation = 1 if z > 0 else -1\n",
    "        return activation\n",
    "    \n",
    "    # Preve um valor para um input\n",
    "    def predict(self, inputs):\n",
    "        linear_combination = np.dot(inputs, self.weights) + self.bias\n",
    "        return self.activation_function(linear_combination)\n",
    "    \n",
    "    # Treino dado número exato de epochs\n",
    "    def train_by_epoch(self, training_inputs, labels, epochs, learning_rate=0.1):\n",
    "        for epoch in epochs:\n",
    "            for inputs, label in zip(training_inputs, labels):\n",
    "                prediction = self.predict(inputs)\n",
    "                self.weights += learning_rate * (label - prediction) * inputs\n",
    "                self.bias += learning_rate * (label - prediction)\n",
    "\n",
    "    # Treino até zerar erro\n",
    "    def train_by_error(self, training_inputs, labels, learning_rate=0.1, max_epochs=100):\n",
    "        errors = []\n",
    "        # Evitar rodar eternamente\n",
    "        for epoch in range(max_epochs): \n",
    "            error = 0\n",
    "            # Atualização dos parâmetros e verificação do erro\n",
    "            for inputs, label in zip(training_inputs, labels):\n",
    "                prediction = self.predict(inputs)\n",
    "                update = learning_rate * (label - prediction)\n",
    "                self.weights += update * inputs\n",
    "                self.bias += update\n",
    "                error += int(update != 0.0) # Soma dos erros em padrão binário\n",
    "            errors.append(error)\n",
    "            # Caso todos os erros forem nulos\n",
    "            if error == 0:\n",
    "                break\n",
    "        return epoch+1, errors"
   ]
  },
  {
   "cell_type": "code",
   "execution_count": 33,
   "metadata": {},
   "outputs": [
    {
     "name": "stdout",
     "output_type": "stream",
     "text": [
      "Progresso do erro: [1, 3, 3, 2, 1, 0]\n",
      "Número total de épocas: 6\n",
      "Teste para [1, 1]: 1\n"
     ]
    }
   ],
   "source": [
    "# Teste para função AND       \n",
    "training_inputs = np.array([[0, 0],[0, 1],[1, 0],[1, 1]])\n",
    "labels = np.array([-1, -1, -1, 1])\n",
    "\n",
    "perceptron_and = Perceptron(np.zeros(2), 0)\n",
    "epoch, errors = perceptron_and.train_by_error(training_inputs=training_inputs, labels = labels, learning_rate=0.1)\n",
    "\n",
    "print(f'Progresso do erro: {errors}')\n",
    "print(f'Número total de épocas: {epoch}')\n",
    "print(f'Teste para [1, 1]: {perceptron_and.predict(np.array([1, 1]))}')"
   ]
  },
  {
   "cell_type": "code",
   "execution_count": 34,
   "metadata": {},
   "outputs": [
    {
     "name": "stdout",
     "output_type": "stream",
     "text": [
      "Progresso do erro: [3, 4, 4, 4, 4, 4, 4, 3, 3, 3, 2, 2, 2, 2, 1, 1, 2, 1, 1, 1, 2, 1, 1, 1, 2, 1, 1, 1, 2, 1, 1, 1, 2, 1, 0]\n",
      "Número total de épocas: 35\n",
      " Padrão a: 1 (Classe B)\n",
      " Padrão b: 1 (Classe B)\n",
      " Padrão c: -1 (Classe A)\n"
     ]
    }
   ],
   "source": [
    "# EPC01\n",
    "training_inputs = np.array([[0, 1, 1],\n",
    "                            [1, 1, 1],\n",
    "                            [1, 0, 1],\n",
    "                            [1, 1, 0],\n",
    "                            [0, 0, 0]])\n",
    "labels = np.array([-1, -1, -1, 1, 1])\n",
    "w0, w1, w2, w3 = 0.07, 0.63, 0.89, 0.27\n",
    "eta = 0.01\n",
    "\n",
    "perceptron = Perceptron(weights=np.array([w1, w2, w3]),bias=w0)\n",
    "epoch, errors = perceptron.train_by_error(training_inputs=training_inputs, labels = labels, learning_rate=eta)\n",
    "\n",
    "print(f'Progresso do erro: {errors}')\n",
    "print(f'Número total de épocas: {epoch}')\n",
    "print(f' Padrão a: {perceptron.predict(np.array([0, 1, 0]))} (Classe B)')\n",
    "print(f' Padrão b: {perceptron.predict(np.array([1, 0, 0]))} (Classe B)')\n",
    "print(f' Padrão c: {perceptron.predict(np.array([0, 0, 1]))} (Classe A)')"
   ]
  }
 ],
 "metadata": {
  "kernelspec": {
   "display_name": "kaggle",
   "language": "python",
   "name": "python3"
  },
  "language_info": {
   "codemirror_mode": {
    "name": "ipython",
    "version": 3
   },
   "file_extension": ".py",
   "mimetype": "text/x-python",
   "name": "python",
   "nbconvert_exporter": "python",
   "pygments_lexer": "ipython3",
   "version": "3.9.16"
  },
  "orig_nbformat": 4
 },
 "nbformat": 4,
 "nbformat_minor": 2
}
